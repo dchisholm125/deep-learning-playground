{
 "cells": [
  {
   "cell_type": "markdown",
   "metadata": {},
   "source": [
    "This model is flawed from the start!\n",
    "\n",
    "It is taking in known data ('Open', 'Volume') from the current day, and attempting to solve for the current day's 'Close' price\n",
    "\n",
    "It should actually be taking in the previous day's features ('Open', 'Volume') and attempting to solve for the current day's 'Close' price"
   ]
  },
  {
   "cell_type": "code",
   "execution_count": 252,
   "metadata": {},
   "outputs": [],
   "source": [
    "# load all relevant imports and download CSV from yfinance API call\n",
    "import pandas as pd\n",
    "import requests \n",
    "import yfinance as yf\n",
    "from sklearn.ensemble import RandomForestRegressor\n",
    "from sklearn.metrics import mean_absolute_error\n",
    "from sklearn.model_selection import train_test_split\n",
    "from sklearn.tree import DecisionTreeRegressor\n",
    "from datetime import date\n",
    "\n",
    "# unsafe_session = requests.session()\n",
    "# unsafe_session.verify = False\n",
    "\n",
    "def load_data(tickerSymbols):\n",
    "    yf.download(tickers=tickerSymbols\n",
    "                # , session=unsafe_session\n",
    "                ).to_csv(f'./csv/{tickerSymbols}_data.csv')\n",
    "\n",
    "    # load data into DataFrame\n",
    "    return pd.read_csv(f'./csv/{tickerSymbols}_data.csv')\n",
    "\n",
    "def prediction_csv(dataframe, ticker):\n",
    "    dataframe.to_csv(f'./predict-csv/{ticker}_data.csv')\n",
    "\n",
    "def add_line_to_file(file_path, new_line):\n",
    "\n",
    "    with open(file_path, \"a\") as file:\n",
    "        file.write(new_line + \"\\n\")\n"
   ]
  },
  {
   "cell_type": "markdown",
   "metadata": {},
   "source": [
    "# Feature Engineering the Model\n",
    "\n",
    "Here is where we separate the adolescents from the adults!\n",
    "\n",
    "We need to predict TODAY's 'Open' and 'Close' price based on YESTERDAY's meaningful trading information\n"
   ]
  },
  {
   "cell_type": "code",
   "execution_count": null,
   "metadata": {},
   "outputs": [],
   "source": [
    "# get only data rows and check columns for features\n",
    "ticker = 'AMZN'\n",
    "data_rows_only = load_data(ticker).iloc[2:]\n",
    "\n",
    "df_shifted = data_rows_only.shift(1)\n",
    "\n",
    "# rename the columns before concat()\n",
    "df_shifted.columns = ['Price_prev', 'Close_prev', 'High_prev', 'Low_prev', 'Open_prev', 'Volume_prev']\n",
    "\n",
    "df_combined = pd.concat([data_rows_only.loc[:,['Price','Close']], df_shifted], axis=1)\n",
    "df_combined.columns = ['Current Date', 'Current Close','Day_prev', 'Close_prev', 'High_prev', 'Low_prev', 'Open_prev', 'Volume_prev']\n",
    "\n",
    "print(len(df_shifted))\n"
   ]
  },
  {
   "cell_type": "code",
   "execution_count": 254,
   "metadata": {},
   "outputs": [],
   "source": [
    "# build stock model and features\n",
    "stock_model = RandomForestRegressor(random_state=1)\n",
    "stock_features = ['Close_prev', 'High_prev', 'Low_prev', 'Open_prev', 'Volume_prev']\n"
   ]
  },
  {
   "cell_type": "code",
   "execution_count": null,
   "metadata": {},
   "outputs": [],
   "source": [
    "# establish X (rows to analyze) and y (value to predict) variables\n",
    "X = df_combined.iloc[1:][stock_features]\n",
    "y = df_combined.iloc[1:]['Current Close']\n",
    "\n",
    "print(len(X))\n",
    "\n",
    "# Split data set into different variables:\n",
    "\n",
    "# --- this is done to illustrate how well the model performs on FACTUAL outcomes.\n",
    "\n",
    "# --- for example, we know the 'Open' value of our target (y) actually occurred \n",
    "# --- and can train our model on the actual features we feel are relevant of the day: (X)\n",
    "\n",
    "# --- the goal is to train on sets train_X and train_y because they are characteristically SEPERATED\n",
    "# --- this means the data hasn't trained on the sets on val_X and val_y\n",
    "# --- it will then be making predictions based on data it has \"never seen before\"\n",
    "\n",
    "# train_X = set of features used to train a machine learning model\n",
    "# train_y = set of corresponding target values you want the model to use for predicting val_y later\n",
    "# val_X = the features fed into the model to attempt to predict val_y\n",
    "# val_y = \n",
    "\n",
    "train_X, val_X, train_y, val_y = train_test_split(X, y, random_state = 0)\n",
    "\n",
    "# fit model on TRAINING data set, withhold validation set for comparison and training\n",
    "# stock_model.fit(train_X,train_y)\n",
    "\n",
    "# fit model on WHOLE data set\n",
    "stock_model.fit(X,y)\n"
   ]
  },
  {
   "cell_type": "markdown",
   "metadata": {},
   "source": [
    "Below is the meat of the transpositioning of the data.\n",
    "\n",
    "Making predictions is one thing, but making sense of the values returned is another!!"
   ]
  },
  {
   "cell_type": "code",
   "execution_count": 256,
   "metadata": {},
   "outputs": [],
   "source": [
    "# make \"linear\" predictions based on the features fed in line-by-line from val_X\n",
    "val_predictions = stock_model.predict(val_X)\n",
    "\n",
    "# turn this into a DataFrame for further processing / reporting\n",
    "predict_df = pd.DataFrame(val_predictions)\n",
    "predict_df.columns = ['Close Price Prediction'] # rename column for readability\n",
    "\n",
    "# concatenate the predictions with the ACTUAL target values of val_y on ONE axis\n",
    "concat_predict_and_val_y = pd.concat([predict_df, val_y.reset_index()], axis=1)\n",
    "\n",
    "# Add new columns for classifying data\n",
    "concat_predict_and_val_y.insert(1, 'Difference', 0) # the actual numerical difference from prediction to target value\n",
    "concat_predict_and_val_y[\"Current Close\"] = concat_predict_and_val_y[\"Current Close\"].astype('float64') # cast type as 'float64' because it is an object\n",
    "# prediction - actual gives us whether you LOST (-) or MADE (+) money that day\n",
    "concat_predict_and_val_y[\"Difference\"] = concat_predict_and_val_y[\"Close Price Prediction\"] - concat_predict_and_val_y[\"Current Close\"]\n",
    "\n",
    "concat_predict_and_val_y.insert(1, 'Off-by Percentage', 0) # PERCENTAGE we were off from prediction to target value\n",
    "# the difference in the $ value we lost/gained, divide this by the actual close price and we have the percentage lost/gained for that day\n",
    "concat_predict_and_val_y[\"Off-by Percentage\"] = concat_predict_and_val_y[\"Difference\"] / concat_predict_and_val_y[\"Current Close\"]\n",
    "\n",
    "concat_predict_and_val_y = concat_predict_and_val_y.sort_values(by='Off-by Percentage', ascending=False)\n",
    "\n",
    "prediction_csv(concat_predict_and_val_y, ticker)\n",
    "\n",
    "# print(concat_predict_and_val_y)\n",
    "# print(concat_predict_and_val_y.sum()[\"Difference\"])\n"
   ]
  },
  {
   "cell_type": "code",
   "execution_count": 257,
   "metadata": {},
   "outputs": [],
   "source": [
    "############################################\n",
    "#         Derek Predictions Below          #\n",
    "############################################\n",
    "\n",
    "# print(\"Making a prediction for today based on yesterday's information:\\n\")\n",
    "\n",
    "# print(df_combined[6972:6974])\n",
    "# actual_todays_close = df_combined[6972:6974]['Current Close'].astype('float64')\n",
    "\n",
    "# print(\"\\nPrediction is:\\n\")\n",
    "\n",
    "# todays_predict = stock_model.predict(df_combined[stock_features][6972:6974])[0].astype('float64')\n",
    "# print(todays_predict)\n",
    "\n",
    "# print(\"\\nActual closed value:\\n\")\n",
    "# print(actual_todays_close)\n",
    "\n",
    "# diff = todays_predict - actual_todays_close\n",
    "# print(diff)\n",
    "\n",
    "# print(\"\\ndifference:\\n\")\n",
    "# print(diff / actual_todays_close)\n"
   ]
  },
  {
   "cell_type": "code",
   "execution_count": null,
   "metadata": {},
   "outputs": [],
   "source": [
    "print(\"Lets make a prediction for 2/3/2025\")\n",
    "\n",
    "# gather the features from Friday 1/31/2025\n",
    "search_date = pd.to_datetime('2025-01-31')\n",
    "\n",
    "# within the original data, grab the row that corresponds\n",
    "data_rows_only['Price'] = pd.to_datetime(data_rows_only['Price'])\n",
    "search_date_row = data_rows_only[data_rows_only['Price'] == search_date]\n",
    "\n",
    "# print(search_date_row.columns)\n",
    "\n",
    "# change the columns to match stock_features variable\n",
    "# stock_features = ['Close_prev', 'High_prev', 'Low_prev', 'Open_prev', 'Volume_prev']\n",
    "search_date_row.columns = ['Price', 'Close_prev', 'High_prev', 'Low_prev', 'Open_prev', 'Volume_prev']\n",
    "\n",
    "\n",
    "# print(search_date_row[stock_features])\n",
    "\n",
    "prediction = stock_model.predict(search_date_row[stock_features])\n",
    "\n",
    "prediction_txt = f\"\\n My model predicts that the value of '{ticker}' will be '{prediction[0]}' on '{search_date.date()}'\"\n",
    "\n",
    "print(\"Based on this row of values:\")\n",
    "print(search_date_row)\n",
    "print(prediction_txt)\n"
   ]
  },
  {
   "cell_type": "markdown",
   "metadata": {},
   "source": []
  },
  {
   "cell_type": "code",
   "execution_count": null,
   "metadata": {},
   "outputs": [],
   "source": [
    "print(\"That's a difference of:\\n\")\n",
    "search_date_row.to_string()\n",
    "prev_close = search_date_row[\"Close_prev\"].astype('float64')\n",
    "prediction_diff = (prediction - prev_close).iloc[0]\n",
    "print(prediction_diff)\n"
   ]
  },
  {
   "cell_type": "code",
   "execution_count": 260,
   "metadata": {},
   "outputs": [],
   "source": [
    "# add predictions to the file log!\n",
    "formatted_date = date.today().strftime(\"%m/%d/%Y\")\n",
    "line_1 = formatted_date + \" - \\n\\tBased on this row of values:\\n\"\n",
    "line_4 = \"That's a difference of:\\n\"\n",
    "\n",
    "add_line_to_file(\"./predictions/predictions-log.txt\", line_1)\n",
    "add_line_to_file(\"./predictions/predictions-log.txt\", search_date_row.to_string())\n",
    "add_line_to_file(\"./predictions/predictions-log.txt\", prediction_txt + \"\\n\")\n",
    "add_line_to_file(\"./predictions/predictions-log.txt\", line_4)\n",
    "add_line_to_file(\"./predictions/predictions-log.txt\", f\"${prediction_diff}\\n\")\n"
   ]
  }
 ],
 "metadata": {
  "kernelspec": {
   "display_name": "Python 3",
   "language": "python",
   "name": "python3"
  },
  "language_info": {
   "codemirror_mode": {
    "name": "ipython",
    "version": 3
   },
   "file_extension": ".py",
   "mimetype": "text/x-python",
   "name": "python",
   "nbconvert_exporter": "python",
   "pygments_lexer": "ipython3",
   "version": "3.10.12"
  }
 },
 "nbformat": 4,
 "nbformat_minor": 2
}
